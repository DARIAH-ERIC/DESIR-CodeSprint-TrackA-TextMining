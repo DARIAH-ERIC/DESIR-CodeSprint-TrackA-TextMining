{
 "cells": [
  {
   "cell_type": "code",
   "execution_count": 4,
   "metadata": {},
   "outputs": [],
   "source": [
    "import requests\n",
    "\n"
   ]
  },
  {
   "cell_type": "code",
   "execution_count": 14,
   "metadata": {},
   "outputs": [
    {
     "name": "stdout",
     "output_type": "stream",
     "text": [
      "<html>\n",
      "<head>\n",
      "<meta http-equiv=\"Content-Type\" content=\"text/html;charset=utf-8\"/>\n",
      "<title>Error 400 Bad Request</title>\n",
      "</head>\n",
      "<body><h2>HTTP ERROR 400</h2>\n",
      "<p>Problem accessing /api/processFulltextDocument. Reason:\n",
      "<pre>    Bad Request</pre></p>\n",
      "</body>\n",
      "</html>\n",
      "\n"
     ]
    }
   ],
   "source": [
    "pdf = open('1807.02437.pdf', 'rb')\n",
    "Data = {'input': open('1807.02437.pdf', 'rb')}\n",
    "headers = {'Content-type': 'multipart/form-data'}\n",
    "url = 'http://localhost:8070/api/processFulltextDocument'\n",
    "r = requests.post(url, data=Data, headers=headers)\n",
    "print(r.text)"
   ]
  }
 ],
 "metadata": {
  "kernelspec": {
   "display_name": "Python 3",
   "language": "python",
   "name": "python3"
  },
  "language_info": {
   "codemirror_mode": {
    "name": "ipython",
    "version": 3
   },
   "file_extension": ".py",
   "mimetype": "text/x-python",
   "name": "python",
   "nbconvert_exporter": "python",
   "pygments_lexer": "ipython3",
   "version": "3.6.2"
  }
 },
 "nbformat": 4,
 "nbformat_minor": 2
}
